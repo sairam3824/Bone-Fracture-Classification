{
  "nbformat": 4,
  "nbformat_minor": 0,
  "metadata": {
    "colab": {
      "provenance": [],
      "gpuType": "T4"
    },
    "kernelspec": {
      "name": "python3",
      "display_name": "Python 3"
    },
    "language_info": {
      "name": "python"
    },
    "accelerator": "GPU"
  },
  "cells": [
    {
      "cell_type": "markdown",
      "source": [
        "**Importing Libraries**"
      ],
      "metadata": {
        "id": "IJ8i_qvtKt5O"
      }
    },
    {
      "cell_type": "code",
      "execution_count": null,
      "metadata": {
        "id": "w-Wl7FR4CpUc"
      },
      "outputs": [],
      "source": [
        "import os\n",
        "\n",
        "import warnings\n",
        "\n",
        "from IPython.display import HTML\n",
        "\n",
        "import numpy as np\n",
        "import pandas as pd\n",
        "import matplotlib.pyplot as plt\n",
        "from matplotlib.colors import LinearSegmentedColormap\n",
        "from matplotlib.patches import Rectangle\n",
        "import seaborn as sns\n",
        "import shutil\n",
        "\n",
        "import torch\n",
        "import torch.nn as nn\n",
        "import torch.nn.functional as F\n",
        "import torchvision\n",
        "import torchvision.transforms as transforms\n",
        "from torch.utils.data import DataLoader, TensorDataset, default_collate, Dataset\n",
        "\n",
        "from sklearn.model_selection import train_test_split\n",
        "from sklearn.metrics import confusion_matrix, precision_score, recall_score, f1_score\n",
        "\n",
        "from PIL import Image, ImageFile\n",
        "\n",
        "from tqdm.auto import tqdm"
      ]
    },
    {
      "cell_type": "code",
      "source": [
        "ImageFile.LOAD_TRUNCATED_IMAGES = True"
      ],
      "metadata": {
        "id": "Il5gIB10Cr4k"
      },
      "execution_count": null,
      "outputs": []
    },
    {
      "cell_type": "code",
      "source": [
        "color_list = ['#faa5c7', '#eb679c', '#cc3d76', '#b3245d', '#d40457', '#8f1042', '#6e042e']\n",
        "color_palette = sns.color_palette(color_list)\n",
        "sns.set_palette(color_palette)\n",
        "\n",
        "# cmap = colors.ListedColormap(color_palette)\n",
        "cmap = LinearSegmentedColormap.from_list('custom_palette', color_list, N=256)\n",
        "\n",
        "warnings.filterwarnings(\"ignore\")"
      ],
      "metadata": {
        "id": "4-CC5oryC8Ep"
      },
      "execution_count": null,
      "outputs": []
    },
    {
      "cell_type": "code",
      "source": [
        "device = torch.device('cuda:0' if torch.cuda.is_available() else 'cpu')\n",
        "device"
      ],
      "metadata": {
        "colab": {
          "base_uri": "https://localhost:8080/"
        },
        "id": "RLtfWSS-C95A",
        "outputId": "53299582-1a47-4c8a-933a-3ac68e6ce57e"
      },
      "execution_count": null,
      "outputs": [
        {
          "output_type": "execute_result",
          "data": {
            "text/plain": [
              "device(type='cuda', index=0)"
            ]
          },
          "metadata": {},
          "execution_count": 4
        }
      ]
    },
    {
      "cell_type": "code",
      "source": [
        "from google.colab import drive\n",
        "drive.mount('/content/drive')"
      ],
      "metadata": {
        "colab": {
          "base_uri": "https://localhost:8080/"
        },
        "id": "2MtfmftgDW3J",
        "outputId": "efe9dc2f-d7f1-46aa-8340-290c95294420"
      },
      "execution_count": null,
      "outputs": [
        {
          "output_type": "stream",
          "name": "stdout",
          "text": [
            "Mounted at /content/drive\n"
          ]
        }
      ]
    },
    {
      "cell_type": "markdown",
      "source": [
        "**Importing Dataset**"
      ],
      "metadata": {
        "id": "Zxi0AD7EK6Lh"
      }
    },
    {
      "cell_type": "code",
      "source": [
        "input_directory = '/content/drive/MyDrive/Bone_Fracture_Binary_Classification'\n",
        "output_directory = '/content/drive/MyDrive/working'\n",
        "dataset_directory = f'{output_directory}'\n",
        "output_train_directory = '/content/drive/MyDrive/working/train'\n",
        "output_dev_directory = '/content/drive/MyDrive/working/val'\n",
        "output_test_directory = '/content/drive/MyDrive/working/test'"
      ],
      "metadata": {
        "id": "U54vuVmSDCjQ"
      },
      "execution_count": null,
      "outputs": []
    },
    {
      "cell_type": "code",
      "source": [
        "# Iterate through subdirectories\n",
        "def removeCorruptFiles(directory_path):\n",
        "  for item in os.listdir(directory_path):\n",
        "    item_path = os.path.join(directory_path, item)\n",
        "\n",
        "    if os.path.isdir(item_path):\n",
        "      removeCorruptFiles(item_path)\n",
        "    else:\n",
        "      try:\n",
        "        Image.open(item_path).verify()\n",
        "      except (IOError, SyntaxError):\n",
        "        os.remove(item_path)\n",
        "        print(f'Removed corrupted image: {item}')\n",
        "\n",
        "  # print(\"Corrupted image removal complete.\")"
      ],
      "metadata": {
        "id": "CkU8Wmv3DGxK"
      },
      "execution_count": null,
      "outputs": []
    },
    {
      "cell_type": "code",
      "source": [
        "def removeEmptySubdirectories(directory):\n",
        "    # Iterate over each entry in the directory\n",
        "    for entry in os.listdir(directory):\n",
        "        # Create full path\n",
        "        full_path = os.path.join(directory, entry)\n",
        "\n",
        "        # If entry is a directory, recursively remove empty subdirectories\n",
        "        if os.path.isdir(full_path):\n",
        "            removeEmptySubdirectories(full_path)\n",
        "\n",
        "            # Check if directory is empty after removal\n",
        "            if not os.listdir(full_path):\n",
        "                # Remove the directory if it's empty\n",
        "                os.rmdir(full_path)\n",
        "                print(f\"Removed empty directory: {full_path}\")"
      ],
      "metadata": {
        "id": "5qegqnfVDIzX"
      },
      "execution_count": null,
      "outputs": []
    },
    {
      "cell_type": "code",
      "source": [
        "def copyDatasetIntoWorkingDir(source_directory, destination_directory):\n",
        "    # Remove the destination directory if it already exists\n",
        "    if os.path.exists(destination_directory):\n",
        "        shutil.rmtree(destination_directory)\n",
        "\n",
        "\n",
        "    shutil.copytree(source_directory, destination_directory)"
      ],
      "metadata": {
        "id": "ouftMyT4DKgA"
      },
      "execution_count": null,
      "outputs": []
    },
    {
      "cell_type": "code",
      "source": [
        "print(output_train_directory)\n"
      ],
      "metadata": {
        "id": "z1qBddatG7cY"
      },
      "execution_count": null,
      "outputs": []
    },
    {
      "cell_type": "code",
      "source": [
        "IMAGE_SIZE = 224\n",
        "imgSize = IMAGE_SIZE"
      ],
      "metadata": {
        "id": "lbp_yKbQDRlK"
      },
      "execution_count": null,
      "outputs": []
    },
    {
      "cell_type": "markdown",
      "source": [
        "**Applying Image Transformations**"
      ],
      "metadata": {
        "id": "9UMmOmukLBhc"
      }
    },
    {
      "cell_type": "code",
      "source": [
        "train_transform = transforms.Compose([\n",
        "    transforms.Resize((imgSize, imgSize)),\n",
        "    transforms.RandomHorizontalFlip(p=0.5),\n",
        "    transforms.RandomVerticalFlip(p=0.5),\n",
        "#     transforms.GaussianBlur(kernel_size=(5, 9), sigma=(0.1, 5)),\n",
        "#     transforms.RandomRotation(degrees=(30, 70)),\n",
        "    transforms.ToTensor(),\n",
        "    transforms.Normalize(\n",
        "        mean=[0.5, 0.5, 0.5],\n",
        "        std=[0.5, 0.5, 0.5]\n",
        "    )\n",
        "])\n",
        "\n",
        "dev_transform = transforms.Compose([\n",
        "    transforms.Resize((imgSize, imgSize)),\n",
        "    transforms.ToTensor(),\n",
        "    transforms.Normalize(\n",
        "        mean=[0.5, 0.5, 0.5],\n",
        "        std=[0.5, 0.5, 0.5]\n",
        "    )\n",
        "])\n",
        "\n",
        "test_transform = transforms.Compose([\n",
        "    transforms.Resize((imgSize, imgSize)),\n",
        "    transforms.ToTensor(),\n",
        "    transforms.Normalize(\n",
        "        mean=[0.5, 0.5, 0.5],\n",
        "        std=[0.5, 0.5, 0.5]\n",
        "    )\n",
        "])"
      ],
      "metadata": {
        "id": "_ZIeJq05NC3A"
      },
      "execution_count": null,
      "outputs": []
    },
    {
      "cell_type": "code",
      "source": [
        "train_dataset = torchvision.datasets.ImageFolder(root = output_train_directory, transform = train_transform)\n",
        "dev_dataset = torchvision.datasets.ImageFolder(root = output_dev_directory, transform = dev_transform)\n",
        "test_dataset = torchvision.datasets.ImageFolder(root = output_test_directory, transform = test_transform)"
      ],
      "metadata": {
        "id": "Dqdk29fXNbF6"
      },
      "execution_count": null,
      "outputs": []
    },
    {
      "cell_type": "code",
      "source": [
        "def my_collate(batch):\n",
        "    \"Puts each data field into a tensor with outer dimension batch size\"\n",
        "    batch = list(filter(lambda x:x is not None, batch))\n",
        "    return default_collate(batch)"
      ],
      "metadata": {
        "id": "G5F6DURjNcv3"
      },
      "execution_count": null,
      "outputs": []
    },
    {
      "cell_type": "code",
      "source": [
        "batchsize = 16\n",
        "\n",
        "train_dataloader = DataLoader(train_dataset, batch_size = batchsize, shuffle = True, collate_fn = my_collate)\n",
        "dev_dataloader = DataLoader(dev_dataset, batch_size = batchsize, collate_fn = my_collate)\n",
        "test_dataloader = DataLoader(test_dataset, batch_size = batchsize, collate_fn = my_collate)"
      ],
      "metadata": {
        "id": "zQadIIHrNhOJ"
      },
      "execution_count": null,
      "outputs": []
    },
    {
      "cell_type": "code",
      "source": [
        "X, y = next(iter(train_dataloader))\n",
        "plt.imshow(X[4].permute(1,2,0))"
      ],
      "metadata": {
        "id": "0syVK0umNkwt",
        "colab": {
          "base_uri": "https://localhost:8080/",
          "height": 489
        },
        "outputId": "793e7432-470b-468d-e0f4-92b02287dfd8"
      },
      "execution_count": null,
      "outputs": [
        {
          "output_type": "stream",
          "name": "stderr",
          "text": [
            "WARNING:matplotlib.image:Clipping input data to the valid range for imshow with RGB data ([0..1] for floats or [0..255] for integers).\n"
          ]
        },
        {
          "output_type": "execute_result",
          "data": {
            "text/plain": [
              "<matplotlib.image.AxesImage at 0x7a4226639f90>"
            ]
          },
          "metadata": {},
          "execution_count": 16
        },
        {
          "output_type": "display_data",
          "data": {
            "text/plain": [
              "<Figure size 640x480 with 1 Axes>"
            ],
            "image/png": "[encoded data removed]"
          },
          "metadata": {}
        }
      ]
    },
    {
      "cell_type": "markdown",
      "source": [
        "**wide resnet**"
      ],
      "metadata": {
        "id": "0HDQntlKLPYp"
      }
    },
    {
      "cell_type": "code",
      "source": [
        "import torch\n",
        "import torch.nn as nn\n",
        "import torch.nn.functional as F\n",
        "import torchvision\n",
        "from torchsummary import summary\n",
        "\n",
        "IMAGE_SIZE = 224  # Set your image size here (assuming 224x224 images)\n",
        "# kernelsize stride padding\n",
        "def makeTheNet(k=3, s=1, p=2):\n",
        "    class CnnNet(nn.Module):\n",
        "        def __init__(self):\n",
        "            super().__init__()\n",
        "\n",
        "            imgSize = IMAGE_SIZE\n",
        "\n",
        "            self.conv1 = nn.Conv2d(3, 128, k, s, p)\n",
        "            self.bnorm1 = nn.BatchNorm2d(128)\n",
        "\n",
        "            imgSize = ((imgSize - k + 2*p) // s) + 1\n",
        "            imgSize = imgSize // k\n",
        "\n",
        "            self.conv2 = nn.Conv2d(128, 256, k, s, p)\n",
        "            self.bnorm2 = nn.BatchNorm2d(256)\n",
        "\n",
        "            imgSize = ((imgSize - k + 2*p) // s) + 1\n",
        "            imgSize = imgSize // k\n",
        "\n",
        "            self.conv3 = nn.Conv2d(256, 256, k, s, p)\n",
        "            self.bnorm3 = nn.BatchNorm2d(256)\n",
        "\n",
        "            imgSize = ((imgSize - k + 2*p) // s) + 1\n",
        "            imgSize = imgSize // k\n",
        "\n",
        "            self.fc1 = nn.Linear(imgSize * imgSize * 256, 256)\n",
        "            self.fc2 = nn.Linear(256, 256)\n",
        "            self.fc3 = nn.Linear(256, 256)\n",
        "            self.fc4 = nn.Linear(256, 256)\n",
        "            self.output = nn.Linear(256, 1)\n",
        "\n",
        "        def forward(self, x):\n",
        "            x = F.max_pool2d(self.conv1(x), k)\n",
        "            x = F.leaky_relu(self.bnorm1(x))\n",
        "\n",
        "            x = F.max_pool2d(self.conv2(x), k)\n",
        "            x = F.leaky_relu(self.bnorm2(x))\n",
        "\n",
        "            x = F.max_pool2d(self.conv3(x), k)\n",
        "            x = F.leaky_relu(self.bnorm3(x))\n",
        "\n",
        "            nUnits = x.shape.numel() / x.shape[0]\n",
        "            x = x.view(-1, int(nUnits))\n",
        "\n",
        "            x = F.leaky_relu(self.fc1(x))\n",
        "            x = F.dropout2d(x, .5)\n",
        "\n",
        "            x = F.leaky_relu(self.fc2(x))\n",
        "            x = F.dropout2d(x, .5)\n",
        "\n",
        "            x = F.leaky_relu(self.fc3(x))\n",
        "            x = F.dropout2d(x, .5)\n",
        "\n",
        "            x = F.leaky_relu(self.fc4(x))\n",
        "            x = F.dropout2d(x, .5)\n",
        "\n",
        "            return self.output(x)\n",
        "\n",
        "    net = CnnNet()  # This is your custom CNN model\n",
        "\n",
        "    # Use torchsummary to print the summary\n",
        "    summary(net, (3, IMAGE_SIZE, IMAGE_SIZE))  # Assuming 3 input channels (RGB) and IMAGE_SIZE x IMAGE_SIZE images\n",
        "\n",
        "    lossfun = nn.BCEWithLogitsLoss()\n",
        "\n",
        "    optimizer = torch.optim.Adam(net.parameters(), lr=0.001)\n",
        "\n",
        "    return net, lossfun, optimizer\n",
        "\n",
        "# Example usage:\n",
        "net, lossfun, optimizer = makeTheNet(k=3, s=1, p=2)\n"
      ],
      "metadata": {
        "id": "bDvvBZ7wNz4k",
        "colab": {
          "base_uri": "https://localhost:8080/",
          "height": 373
        },
        "outputId": "100266db-cad4-4366-f5e3-40e70b56edbd"
      },
      "execution_count": null,
      "outputs": [
        {
          "output_type": "error",
          "ename": "RuntimeError",
          "evalue": "Input type (torch.cuda.FloatTensor) and weight type (torch.FloatTensor) should be the same",
          "traceback": [
            "\u001b[0;31m---------------------------------------------------------------------------\u001b[0m",
            "\u001b[0;31mRuntimeError\u001b[0m                              Traceback (most recent call last)",
            "\u001b[0;32m<ipython-input-17-9c1ed66efbd5>\u001b[0m in \u001b[0;36m<cell line: 79>\u001b[0;34m()\u001b[0m\n\u001b[1;32m     77\u001b[0m \u001b[0;34m\u001b[0m\u001b[0m\n\u001b[1;32m     78\u001b[0m \u001b[0;31m# Example usage:\u001b[0m\u001b[0;34m\u001b[0m\u001b[0;34m\u001b[0m\u001b[0m\n\u001b[0;32m---> 79\u001b[0;31m \u001b[0mnet\u001b[0m\u001b[0;34m,\u001b[0m \u001b[0mlossfun\u001b[0m\u001b[0;34m,\u001b[0m \u001b[0moptimizer\u001b[0m \u001b[0;34m=\u001b[0m \u001b[0mmakeTheNet\u001b[0m\u001b[0;34m(\u001b[0m\u001b[0mk\u001b[0m\u001b[0;34m=\u001b[0m\u001b[0;36m3\u001b[0m\u001b[0;34m,\u001b[0m \u001b[0ms\u001b[0m\u001b[0;34m=\u001b[0m\u001b[0;36m1\u001b[0m\u001b[0;34m,\u001b[0m \u001b[0mp\u001b[0m\u001b[0;34m=\u001b[0m\u001b[0;36m2\u001b[0m\u001b[0;34m)\u001b[0m\u001b[0;34m\u001b[0m\u001b[0;34m\u001b[0m\u001b[0m\n\u001b[0m",
            "\u001b[0;32m<ipython-input-17-9c1ed66efbd5>\u001b[0m in \u001b[0;36mmakeTheNet\u001b[0;34m(k, s, p)\u001b[0m\n\u001b[1;32m     68\u001b[0m \u001b[0;34m\u001b[0m\u001b[0m\n\u001b[1;32m     69\u001b[0m     \u001b[0;31m# Use torchsummary to print the summary\u001b[0m\u001b[0;34m\u001b[0m\u001b[0;34m\u001b[0m\u001b[0m\n\u001b[0;32m---> 70\u001b[0;31m     \u001b[0msummary\u001b[0m\u001b[0;34m(\u001b[0m\u001b[0mnet\u001b[0m\u001b[0;34m,\u001b[0m \u001b[0;34m(\u001b[0m\u001b[0;36m3\u001b[0m\u001b[0;34m,\u001b[0m \u001b[0mIMAGE_SIZE\u001b[0m\u001b[0;34m,\u001b[0m \u001b[0mIMAGE_SIZE\u001b[0m\u001b[0;34m)\u001b[0m\u001b[0;34m)\u001b[0m  \u001b[0;31m# Assuming 3 input channels (RGB) and IMAGE_SIZE x IMAGE_SIZE images\u001b[0m\u001b[0;34m\u001b[0m\u001b[0;34m\u001b[0m\u001b[0m\n\u001b[0m\u001b[1;32m     71\u001b[0m \u001b[0;34m\u001b[0m\u001b[0m\n\u001b[1;32m     72\u001b[0m     \u001b[0mlossfun\u001b[0m \u001b[0;34m=\u001b[0m \u001b[0mnn\u001b[0m\u001b[0;34m.\u001b[0m\u001b[0mBCEWithLogitsLoss\u001b[0m\u001b[0;34m(\u001b[0m\u001b[0;34m)\u001b[0m\u001b[0;34m\u001b[0m\u001b[0;34m\u001b[0m\u001b[0m\n",
            "\u001b[0;32m/usr/local/lib/python3.10/dist-packages/torchsummary/torchsummary.py\u001b[0m in \u001b[0;36msummary\u001b[0;34m(model, input_size, batch_size, device)\u001b[0m\n\u001b[1;32m     70\u001b[0m     \u001b[0;31m# make a forward pass\u001b[0m\u001b[0;34m\u001b[0m\u001b[0;34m\u001b[0m\u001b[0m\n\u001b[1;32m     71\u001b[0m     \u001b[0;31m# print(x.shape)\u001b[0m\u001b[0;34m\u001b[0m\u001b[0;34m\u001b[0m\u001b[0m\n\u001b[0;32m---> 72\u001b[0;31m     \u001b[0mmodel\u001b[0m\u001b[0;34m(\u001b[0m\u001b[0;34m*\u001b[0m\u001b[0mx\u001b[0m\u001b[0;34m)\u001b[0m\u001b[0;34m\u001b[0m\u001b[0;34m\u001b[0m\u001b[0m\n\u001b[0m\u001b[1;32m     73\u001b[0m \u001b[0;34m\u001b[0m\u001b[0m\n\u001b[1;32m     74\u001b[0m     \u001b[0;31m# remove these hooks\u001b[0m\u001b[0;34m\u001b[0m\u001b[0;34m\u001b[0m\u001b[0m\n",
            "\u001b[0;32m/usr/local/lib/python3.10/dist-packages/torch/nn/modules/module.py\u001b[0m in \u001b[0;36m_wrapped_call_impl\u001b[0;34m(self, *args, **kwargs)\u001b[0m\n\u001b[1;32m   1734\u001b[0m             \u001b[0;32mreturn\u001b[0m \u001b[0mself\u001b[0m\u001b[0;34m.\u001b[0m\u001b[0m_compiled_call_impl\u001b[0m\u001b[0;34m(\u001b[0m\u001b[0;34m*\u001b[0m\u001b[0margs\u001b[0m\u001b[0;34m,\u001b[0m \u001b[0;34m**\u001b[0m\u001b[0mkwargs\u001b[0m\u001b[0;34m)\u001b[0m  \u001b[0;31m# type: ignore[misc]\u001b[0m\u001b[0;34m\u001b[0m\u001b[0;34m\u001b[0m\u001b[0m\n\u001b[1;32m   1735\u001b[0m         \u001b[0;32melse\u001b[0m\u001b[0;34m:\u001b[0m\u001b[0;34m\u001b[0m\u001b[0;34m\u001b[0m\u001b[0m\n\u001b[0;32m-> 1736\u001b[0;31m             \u001b[0;32mreturn\u001b[0m \u001b[0mself\u001b[0m\u001b[0;34m.\u001b[0m\u001b[0m_call_impl\u001b[0m\u001b[0;34m(\u001b[0m\u001b[0;34m*\u001b[0m\u001b[0margs\u001b[0m\u001b[0;34m,\u001b[0m \u001b[0;34m**\u001b[0m\u001b[0mkwargs\u001b[0m\u001b[0;34m)\u001b[0m\u001b[0;34m\u001b[0m\u001b[0;34m\u001b[0m\u001b[0m\n\u001b[0m\u001b[1;32m   1737\u001b[0m \u001b[0;34m\u001b[0m\u001b[0m\n\u001b[1;32m   1738\u001b[0m     \u001b[0;31m# torchrec tests the code consistency with the following code\u001b[0m\u001b[0;34m\u001b[0m\u001b[0;34m\u001b[0m\u001b[0m\n",
            "\u001b[0;32m/usr/local/lib/python3.10/dist-packages/torch/nn/modules/module.py\u001b[0m in \u001b[0;36m_call_impl\u001b[0;34m(self, *args, **kwargs)\u001b[0m\n\u001b[1;32m   1745\u001b[0m                 \u001b[0;32mor\u001b[0m \u001b[0m_global_backward_pre_hooks\u001b[0m \u001b[0;32mor\u001b[0m \u001b[0m_global_backward_hooks\u001b[0m\u001b[0;34m\u001b[0m\u001b[0;34m\u001b[0m\u001b[0m\n\u001b[1;32m   1746\u001b[0m                 or _global_forward_hooks or _global_forward_pre_hooks):\n\u001b[0;32m-> 1747\u001b[0;31m             \u001b[0;32mreturn\u001b[0m \u001b[0mforward_call\u001b[0m\u001b[0;34m(\u001b[0m\u001b[0;34m*\u001b[0m\u001b[0margs\u001b[0m\u001b[0;34m,\u001b[0m \u001b[0;34m**\u001b[0m\u001b[0mkwargs\u001b[0m\u001b[0;34m)\u001b[0m\u001b[0;34m\u001b[0m\u001b[0;34m\u001b[0m\u001b[0m\n\u001b[0m\u001b[1;32m   1748\u001b[0m \u001b[0;34m\u001b[0m\u001b[0m\n\u001b[1;32m   1749\u001b[0m         \u001b[0mresult\u001b[0m \u001b[0;34m=\u001b[0m \u001b[0;32mNone\u001b[0m\u001b[0;34m\u001b[0m\u001b[0;34m\u001b[0m\u001b[0m\n",
            "\u001b[0;32m<ipython-input-17-9c1ed66efbd5>\u001b[0m in \u001b[0;36mforward\u001b[0;34m(self, x)\u001b[0m\n\u001b[1;32m     39\u001b[0m \u001b[0;34m\u001b[0m\u001b[0m\n\u001b[1;32m     40\u001b[0m         \u001b[0;32mdef\u001b[0m \u001b[0mforward\u001b[0m\u001b[0;34m(\u001b[0m\u001b[0mself\u001b[0m\u001b[0;34m,\u001b[0m \u001b[0mx\u001b[0m\u001b[0;34m)\u001b[0m\u001b[0;34m:\u001b[0m\u001b[0;34m\u001b[0m\u001b[0;34m\u001b[0m\u001b[0m\n\u001b[0;32m---> 41\u001b[0;31m             \u001b[0mx\u001b[0m \u001b[0;34m=\u001b[0m \u001b[0mF\u001b[0m\u001b[0;34m.\u001b[0m\u001b[0mmax_pool2d\u001b[0m\u001b[0;34m(\u001b[0m\u001b[0mself\u001b[0m\u001b[0;34m.\u001b[0m\u001b[0mconv1\u001b[0m\u001b[0;34m(\u001b[0m\u001b[0mx\u001b[0m\u001b[0;34m)\u001b[0m\u001b[0;34m,\u001b[0m \u001b[0mk\u001b[0m\u001b[0;34m)\u001b[0m\u001b[0;34m\u001b[0m\u001b[0;34m\u001b[0m\u001b[0m\n\u001b[0m\u001b[1;32m     42\u001b[0m             \u001b[0mx\u001b[0m \u001b[0;34m=\u001b[0m \u001b[0mF\u001b[0m\u001b[0;34m.\u001b[0m\u001b[0mleaky_relu\u001b[0m\u001b[0;34m(\u001b[0m\u001b[0mself\u001b[0m\u001b[0;34m.\u001b[0m\u001b[0mbnorm1\u001b[0m\u001b[0;34m(\u001b[0m\u001b[0mx\u001b[0m\u001b[0;34m)\u001b[0m\u001b[0;34m)\u001b[0m\u001b[0;34m\u001b[0m\u001b[0;34m\u001b[0m\u001b[0m\n\u001b[1;32m     43\u001b[0m \u001b[0;34m\u001b[0m\u001b[0m\n",
            "\u001b[0;32m/usr/local/lib/python3.10/dist-packages/torch/nn/modules/module.py\u001b[0m in \u001b[0;36m_wrapped_call_impl\u001b[0;34m(self, *args, **kwargs)\u001b[0m\n\u001b[1;32m   1734\u001b[0m             \u001b[0;32mreturn\u001b[0m \u001b[0mself\u001b[0m\u001b[0;34m.\u001b[0m\u001b[0m_compiled_call_impl\u001b[0m\u001b[0;34m(\u001b[0m\u001b[0;34m*\u001b[0m\u001b[0margs\u001b[0m\u001b[0;34m,\u001b[0m \u001b[0;34m**\u001b[0m\u001b[0mkwargs\u001b[0m\u001b[0;34m)\u001b[0m  \u001b[0;31m# type: ignore[misc]\u001b[0m\u001b[0;34m\u001b[0m\u001b[0;34m\u001b[0m\u001b[0m\n\u001b[1;32m   1735\u001b[0m         \u001b[0;32melse\u001b[0m\u001b[0;34m:\u001b[0m\u001b[0;34m\u001b[0m\u001b[0;34m\u001b[0m\u001b[0m\n\u001b[0;32m-> 1736\u001b[0;31m             \u001b[0;32mreturn\u001b[0m \u001b[0mself\u001b[0m\u001b[0;34m.\u001b[0m\u001b[0m_call_impl\u001b[0m\u001b[0;34m(\u001b[0m\u001b[0;34m*\u001b[0m\u001b[0margs\u001b[0m\u001b[0;34m,\u001b[0m \u001b[0;34m**\u001b[0m\u001b[0mkwargs\u001b[0m\u001b[0;34m)\u001b[0m\u001b[0;34m\u001b[0m\u001b[0;34m\u001b[0m\u001b[0m\n\u001b[0m\u001b[1;32m   1737\u001b[0m \u001b[0;34m\u001b[0m\u001b[0m\n\u001b[1;32m   1738\u001b[0m     \u001b[0;31m# torchrec tests the code consistency with the following code\u001b[0m\u001b[0;34m\u001b[0m\u001b[0;34m\u001b[0m\u001b[0m\n",
            "\u001b[0;32m/usr/local/lib/python3.10/dist-packages/torch/nn/modules/module.py\u001b[0m in \u001b[0;36m_call_impl\u001b[0;34m(self, *args, **kwargs)\u001b[0m\n\u001b[1;32m   1842\u001b[0m \u001b[0;34m\u001b[0m\u001b[0m\n\u001b[1;32m   1843\u001b[0m         \u001b[0;32mtry\u001b[0m\u001b[0;34m:\u001b[0m\u001b[0;34m\u001b[0m\u001b[0;34m\u001b[0m\u001b[0m\n\u001b[0;32m-> 1844\u001b[0;31m             \u001b[0;32mreturn\u001b[0m \u001b[0minner\u001b[0m\u001b[0;34m(\u001b[0m\u001b[0;34m)\u001b[0m\u001b[0;34m\u001b[0m\u001b[0;34m\u001b[0m\u001b[0m\n\u001b[0m\u001b[1;32m   1845\u001b[0m         \u001b[0;32mexcept\u001b[0m \u001b[0mException\u001b[0m\u001b[0;34m:\u001b[0m\u001b[0;34m\u001b[0m\u001b[0;34m\u001b[0m\u001b[0m\n\u001b[1;32m   1846\u001b[0m             \u001b[0;31m# run always called hooks if they have not already been run\u001b[0m\u001b[0;34m\u001b[0m\u001b[0;34m\u001b[0m\u001b[0m\n",
            "\u001b[0;32m/usr/local/lib/python3.10/dist-packages/torch/nn/modules/module.py\u001b[0m in \u001b[0;36minner\u001b[0;34m()\u001b[0m\n\u001b[1;32m   1788\u001b[0m                 \u001b[0margs\u001b[0m \u001b[0;34m=\u001b[0m \u001b[0mbw_hook\u001b[0m\u001b[0;34m.\u001b[0m\u001b[0msetup_input_hook\u001b[0m\u001b[0;34m(\u001b[0m\u001b[0margs\u001b[0m\u001b[0;34m)\u001b[0m\u001b[0;34m\u001b[0m\u001b[0;34m\u001b[0m\u001b[0m\n\u001b[1;32m   1789\u001b[0m \u001b[0;34m\u001b[0m\u001b[0m\n\u001b[0;32m-> 1790\u001b[0;31m             \u001b[0mresult\u001b[0m \u001b[0;34m=\u001b[0m \u001b[0mforward_call\u001b[0m\u001b[0;34m(\u001b[0m\u001b[0;34m*\u001b[0m\u001b[0margs\u001b[0m\u001b[0;34m,\u001b[0m \u001b[0;34m**\u001b[0m\u001b[0mkwargs\u001b[0m\u001b[0;34m)\u001b[0m\u001b[0;34m\u001b[0m\u001b[0;34m\u001b[0m\u001b[0m\n\u001b[0m\u001b[1;32m   1791\u001b[0m             \u001b[0;32mif\u001b[0m \u001b[0m_global_forward_hooks\u001b[0m \u001b[0;32mor\u001b[0m \u001b[0mself\u001b[0m\u001b[0;34m.\u001b[0m\u001b[0m_forward_hooks\u001b[0m\u001b[0;34m:\u001b[0m\u001b[0;34m\u001b[0m\u001b[0;34m\u001b[0m\u001b[0m\n\u001b[1;32m   1792\u001b[0m                 for hook_id, hook in (\n",
            "\u001b[0;32m/usr/local/lib/python3.10/dist-packages/torch/nn/modules/conv.py\u001b[0m in \u001b[0;36mforward\u001b[0;34m(self, input)\u001b[0m\n\u001b[1;32m    552\u001b[0m \u001b[0;34m\u001b[0m\u001b[0m\n\u001b[1;32m    553\u001b[0m     \u001b[0;32mdef\u001b[0m \u001b[0mforward\u001b[0m\u001b[0;34m(\u001b[0m\u001b[0mself\u001b[0m\u001b[0;34m,\u001b[0m \u001b[0minput\u001b[0m\u001b[0;34m:\u001b[0m \u001b[0mTensor\u001b[0m\u001b[0;34m)\u001b[0m \u001b[0;34m->\u001b[0m \u001b[0mTensor\u001b[0m\u001b[0;34m:\u001b[0m\u001b[0;34m\u001b[0m\u001b[0;34m\u001b[0m\u001b[0m\n\u001b[0;32m--> 554\u001b[0;31m         \u001b[0;32mreturn\u001b[0m \u001b[0mself\u001b[0m\u001b[0;34m.\u001b[0m\u001b[0m_conv_forward\u001b[0m\u001b[0;34m(\u001b[0m\u001b[0minput\u001b[0m\u001b[0;34m,\u001b[0m \u001b[0mself\u001b[0m\u001b[0;34m.\u001b[0m\u001b[0mweight\u001b[0m\u001b[0;34m,\u001b[0m \u001b[0mself\u001b[0m\u001b[0;34m.\u001b[0m\u001b[0mbias\u001b[0m\u001b[0;34m)\u001b[0m\u001b[0;34m\u001b[0m\u001b[0;34m\u001b[0m\u001b[0m\n\u001b[0m\u001b[1;32m    555\u001b[0m \u001b[0;34m\u001b[0m\u001b[0m\n\u001b[1;32m    556\u001b[0m \u001b[0;34m\u001b[0m\u001b[0m\n",
            "\u001b[0;32m/usr/local/lib/python3.10/dist-packages/torch/nn/modules/conv.py\u001b[0m in \u001b[0;36m_conv_forward\u001b[0;34m(self, input, weight, bias)\u001b[0m\n\u001b[1;32m    547\u001b[0m                 \u001b[0mself\u001b[0m\u001b[0;34m.\u001b[0m\u001b[0mgroups\u001b[0m\u001b[0;34m,\u001b[0m\u001b[0;34m\u001b[0m\u001b[0;34m\u001b[0m\u001b[0m\n\u001b[1;32m    548\u001b[0m             )\n\u001b[0;32m--> 549\u001b[0;31m         return F.conv2d(\n\u001b[0m\u001b[1;32m    550\u001b[0m             \u001b[0minput\u001b[0m\u001b[0;34m,\u001b[0m \u001b[0mweight\u001b[0m\u001b[0;34m,\u001b[0m \u001b[0mbias\u001b[0m\u001b[0;34m,\u001b[0m \u001b[0mself\u001b[0m\u001b[0;34m.\u001b[0m\u001b[0mstride\u001b[0m\u001b[0;34m,\u001b[0m \u001b[0mself\u001b[0m\u001b[0;34m.\u001b[0m\u001b[0mpadding\u001b[0m\u001b[0;34m,\u001b[0m \u001b[0mself\u001b[0m\u001b[0;34m.\u001b[0m\u001b[0mdilation\u001b[0m\u001b[0;34m,\u001b[0m \u001b[0mself\u001b[0m\u001b[0;34m.\u001b[0m\u001b[0mgroups\u001b[0m\u001b[0;34m\u001b[0m\u001b[0;34m\u001b[0m\u001b[0m\n\u001b[1;32m    551\u001b[0m         )\n",
            "\u001b[0;31mRuntimeError\u001b[0m: Input type (torch.cuda.FloatTensor) and weight type (torch.FloatTensor) should be the same"
          ]
        }
      ]
    },
    {
      "cell_type": "code",
      "source": [
        "net, lossfun, optimizer = makeTheNet()\n",
        "net.to(device)\n",
        "X, y = X.to(device), y.to(device, dtype = torch.float)\n",
        "yHat = net(X)\n",
        "yHat = yHat.squeeze()\n",
        "lossfun(yHat, y)"
      ],
      "metadata": {
        "id": "bRAraF3PPwcL"
      },
      "execution_count": null,
      "outputs": []
    },
    {
      "cell_type": "markdown",
      "source": [
        "**Training the Network**"
      ],
      "metadata": {
        "id": "_NUKg-WeLXIp"
      }
    },
    {
      "cell_type": "code",
      "source": [
        "import torch\n",
        "import numpy as np\n",
        "from tqdm import tqdm\n",
        "\n",
        "def function2TrainModel():\n",
        "    epochs = 30  # Adjust epochs as needed\n",
        "\n",
        "    net, lossfun, optimizer = makeTheNet()  # Assume this is a predefined function that sets up the model\n",
        "    net.to(device)\n",
        "\n",
        "    trainAcc = []\n",
        "    devAcc = []\n",
        "    trainLoss = []\n",
        "    devLoss = []\n",
        "\n",
        "    best_acc = 0  # Initialize best accuracy\n",
        "    best_model = None  # To store the best model\n",
        "\n",
        "    for epochi in tqdm(range(epochs)):\n",
        "\n",
        "        net.train()\n",
        "        batchAcc = []\n",
        "        batchLoss = []\n",
        "\n",
        "        for X, y in train_dataloader:\n",
        "            X, y = X.to(device), y.to(device, dtype=torch.float)\n",
        "            yHat = net(X)\n",
        "            yHat = yHat.squeeze()\n",
        "            yHat, y = yHat.cpu(), y.cpu()\n",
        "            loss = lossfun(yHat, y)\n",
        "            batchAcc.append(torch.mean(((yHat > .0) == y).float()) * 100)\n",
        "            batchLoss.append(loss.item())\n",
        "\n",
        "            optimizer.zero_grad()\n",
        "            loss.backward()\n",
        "            optimizer.step()\n",
        "\n",
        "        trainAcc.append(np.mean(batchAcc))\n",
        "        trainLoss.append(np.mean(batchLoss))\n",
        "\n",
        "        net.eval()\n",
        "        with torch.no_grad():\n",
        "            batchLoss = []\n",
        "            batchAcc = []\n",
        "\n",
        "            for X, y in dev_dataloader:\n",
        "                X, y = X.to(device), y.to(device, dtype=torch.float)\n",
        "                yHat = net(X)\n",
        "                yHat = yHat.squeeze()\n",
        "                yHat, y = yHat.cpu(), y.cpu()\n",
        "                loss = lossfun(yHat, y)\n",
        "\n",
        "                batchAcc.append(torch.mean(((yHat > .0) == y).float()) * 100)\n",
        "                batchLoss.append(loss.item())\n",
        "\n",
        "            devAcc.append(np.mean(batchAcc))\n",
        "            devLoss.append(np.mean(batchLoss))\n",
        "\n",
        "            # Check if current epoch's accuracy is the best\n",
        "            if devAcc[-1] > best_acc:\n",
        "                best_acc = devAcc[-1]\n",
        "                best_model = net.state_dict()  # Save the best model state\n",
        "\n",
        "    # Optionally, load the best model state back into the model\n",
        "    net.load_state_dict(best_model)\n",
        "\n",
        "    return trainAcc, devAcc, trainLoss, devLoss, net"
      ],
      "metadata": {
        "id": "D95f2lp9RqTY"
      },
      "execution_count": null,
      "outputs": []
    },
    {
      "cell_type": "code",
      "source": [
        "import random\n",
        "\n",
        "# Setting seeds\n",
        "def set_seed(seed=42):\n",
        "    random.seed(seed)\n",
        "    np.random.seed(seed)\n",
        "    torch.manual_seed(seed)\n",
        "    torch.cuda.manual_seed_all(seed)  # if using CUDA\n",
        "    torch.backends.cudnn.deterministic = True\n",
        "    torch.backends.cudnn.benchmark = False\n",
        "\n",
        "set_seed()  # Ensure reproducibility"
      ],
      "metadata": {
        "id": "otTAIsufRsXj"
      },
      "execution_count": null,
      "outputs": []
    },
    {
      "cell_type": "code",
      "source": [
        "import torch\n",
        "\n",
        "# Assuming `net` is your trained model\n",
        "trainAcc, devAcc, trainLoss, devLoss, net = function2TrainModel()\n",
        "\n",
        "# Save the model's state_dict\n",
        "path = '/content/drive/MyDrive/model.pth'\n",
        "torch.save(net.state_dict(), path)\n"
      ],
      "metadata": {
        "id": "iM4UG-kRRxsz"
      },
      "execution_count": null,
      "outputs": []
    },
    {
      "cell_type": "code",
      "source": [
        "print(max(trainAcc))\n",
        "print(max(devAcc))"
      ],
      "metadata": {
        "colab": {
          "base_uri": "https://localhost:8080/",
          "height": 158
        },
        "id": "OhItpe0lHhen",
        "outputId": "2803ad80-4649-49ee-b173-85e0ce7ee661"
      },
      "execution_count": null,
      "outputs": [
        {
          "output_type": "error",
          "ename": "NameError",
          "evalue": "name 'trainAcc' is not defined",
          "traceback": [
            "\u001b[0;31m---------------------------------------------------------------------------\u001b[0m",
            "\u001b[0;31mNameError\u001b[0m                                 Traceback (most recent call last)",
            "\u001b[0;32m<ipython-input-18-a178e9a292a2>\u001b[0m in \u001b[0;36m<cell line: 1>\u001b[0;34m()\u001b[0m\n\u001b[0;32m----> 1\u001b[0;31m \u001b[0mprint\u001b[0m\u001b[0;34m(\u001b[0m\u001b[0mmax\u001b[0m\u001b[0;34m(\u001b[0m\u001b[0mtrainAcc\u001b[0m\u001b[0;34m)\u001b[0m\u001b[0;34m)\u001b[0m\u001b[0;34m\u001b[0m\u001b[0;34m\u001b[0m\u001b[0m\n\u001b[0m\u001b[1;32m      2\u001b[0m \u001b[0mprint\u001b[0m\u001b[0;34m(\u001b[0m\u001b[0mmax\u001b[0m\u001b[0;34m(\u001b[0m\u001b[0mdevAcc\u001b[0m\u001b[0;34m)\u001b[0m\u001b[0;34m)\u001b[0m\u001b[0;34m\u001b[0m\u001b[0;34m\u001b[0m\u001b[0m\n",
            "\u001b[0;31mNameError\u001b[0m: name 'trainAcc' is not defined"
          ]
        }
      ]
    },
    {
      "cell_type": "markdown",
      "source": [
        "**Plotting the Accuracy / Loss Curves**"
      ],
      "metadata": {
        "id": "lvWqmG1-Ld9X"
      }
    },
    {
      "cell_type": "code",
      "source": [
        "fig, ax = plt.subplots(1,2,figsize=(14,5))\n",
        "ax[0].plot(trainAcc, 'o-', label='Train')\n",
        "ax[0].plot(devAcc, 'o-', label='Dev')\n",
        "ax[0].legend()\n",
        "ax[0].set_xlabel('Epochs')\n",
        "ax[0].set_ylabel('Accuracy')\n",
        "ax[0].set_title(f'Final dev accuracy {np.mean(devAcc[-10:]):.2f}')\n",
        "\n",
        "ax[1].plot(trainLoss, 'o-', label='Train')\n",
        "ax[1].plot(devLoss, 'o-', label='Dev')\n",
        "ax[1].legend()\n",
        "ax[1].set_xlabel('Epochs')\n",
        "ax[1].set_ylabel('Loss')\n",
        "ax[1].set_title(f'Final dev loss {np.mean(devLoss[-10:]):.2f}')\n",
        "\n",
        "plt.show()"
      ],
      "metadata": {
        "id": "0fGoLPBkrEM3"
      },
      "execution_count": null,
      "outputs": []
    },
    {
      "cell_type": "code",
      "source": [
        "import matplotlib.pyplot as plt\n",
        "import numpy as np\n",
        "\n",
        "# Assuming trainAcc, devAcc, trainLoss, and devLoss are already defined as lists containing the accuracy and loss values\n",
        "\n",
        "fig, ax = plt.subplots(1, 2, figsize=(14, 5))\n",
        "\n",
        "# Plot for accuracy\n",
        "ax[0].plot(trainAcc, 'o-', label='Train')\n",
        "ax[0].plot(devAcc, 'o-', label='Dev')\n",
        "ax[0].legend()\n",
        "ax[0].set_xlabel('Epochs')\n",
        "ax[0].set_ylabel('Accuracy')\n",
        "\n",
        "# Calculate average training accuracy over all epochs\n",
        "train_acc_avg = np.mean(trainAcc)  # Average training accuracy\n",
        "dev_acc_final = devAcc[-1]  # Final development accuracy (last epoch)\n",
        "\n",
        "# Set title with both training and development accuracy\n",
        "ax[0].set_title(f'Train Acc (Avg): {train_acc_avg:.2f} | Dev Acc (Final): {dev_acc_final:.2f}')\n",
        "\n",
        "# Plot for loss\n",
        "ax[1].plot(trainLoss, 'o-', label='Train')\n",
        "ax[1].plot(devLoss, 'o-', label='Dev')\n",
        "ax[1].legend()\n",
        "ax[1].set_xlabel('Epochs')\n",
        "ax[1].set_ylabel('Loss')\n",
        "\n",
        "# Get the final dev loss (last epoch)\n",
        "dev_loss_final = devLoss[-1]  # Final development loss (last epoch)\n",
        "\n",
        "# Set the title with the final development loss\n",
        "ax[1].set_title(f'Final Dev Loss: {dev_loss_final:.2f}')\n",
        "\n",
        "plt.show()"
      ],
      "metadata": {
        "id": "ncGMmSs_Ki4N"
      },
      "execution_count": null,
      "outputs": []
    },
    {
      "cell_type": "code",
      "source": [
        "net.eval()\n",
        "\n",
        "images = []\n",
        "yTrue, yPred = [], []\n",
        "\n",
        "with torch.no_grad():\n",
        "    for X, y in test_dataloader:\n",
        "        X, y = X.to(device), y.to(device, dtype=torch.float)\n",
        "        yHat = net(X)\n",
        "        yHat = yHat.squeeze()\n",
        "        yHat, y = yHat.cpu(), y.cpu()\n",
        "\n",
        "        images.extend(X)\n",
        "        yTrue.extend(y)\n",
        "        yPred.extend((yHat > .0).float())"
      ],
      "metadata": {
        "id": "NoGKKEPwr0Ve"
      },
      "execution_count": null,
      "outputs": []
    },
    {
      "cell_type": "code",
      "source": [
        "yTrue, yPred = [yItem.item() for yItem in yTrue], [yItem.item() for yItem in yPred]"
      ],
      "metadata": {
        "id": "jdXeBLWkr8Oc"
      },
      "execution_count": null,
      "outputs": []
    },
    {
      "cell_type": "markdown",
      "source": [
        "**Comparision of Actual vs Predicted**"
      ],
      "metadata": {
        "id": "GM45qFUTLpuk"
      }
    },
    {
      "cell_type": "code",
      "source": [
        "def showComparision(images, yTrue, yPred):\n",
        "    cols = 3\n",
        "    rows = int(len(images) / cols)\n",
        "\n",
        "    fig, ax = plt.subplots(rows, cols, figsize = (50, 200))\n",
        "    fig.subplots_adjust(hspace=.5, wspace=.2)  # Adjust spacing between subplots\n",
        "\n",
        "    for idx, image in enumerate(images):\n",
        "        yActual = int(yTrue[idx])\n",
        "        yPredicted = int(yPred[idx])\n",
        "\n",
        "        yActualStr = test_dataset.classes[yActual]\n",
        "        yPredictedStr = test_dataset.classes[yPredicted]\n",
        "\n",
        "        correctPrediction = (yActual == yPredicted)\n",
        "        color = 'green' if correctPrediction else 'red'\n",
        "\n",
        "        i = int(idx / cols)\n",
        "        j = int(idx % cols)\n",
        "\n",
        "        # Normalize pixel values to range [0, 1]\n",
        "        image = image.cpu().view(-1, imgSize, imgSize).permute(1, 2, 0)\n",
        "        image = image.numpy()  # Convert tensor to NumPy array\n",
        "        image = (image - np.min(image)) / (np.max(image) - np.min(image))  # Normalize\n",
        "\n",
        "        # Add padding to the image\n",
        "        pad = 0.1\n",
        "        ax[i][j].imshow(image, aspect='auto')\n",
        "        ax[i][j].set_title(f'Actual: {yActualStr} | Predicted: {yPredictedStr}', fontsize = 40, color = color, y = 1.05)\n",
        "        ax[i][j].axis('off')\n",
        "\n",
        "        border = Rectangle((0, 0), image.shape[1]-1, image.shape[0]-1, linewidth=5, edgecolor=color, facecolor='none')\n",
        "        ax[i][j].add_patch(border)"
      ],
      "metadata": {
        "id": "K38XiF3SsEmz"
      },
      "execution_count": null,
      "outputs": []
    },
    {
      "cell_type": "code",
      "source": [
        "visualizableCount = 33\n",
        "visualizableImages = images[:visualizableCount]\n",
        "visualizableYTrue = yTrue[:visualizableCount]\n",
        "visualizableYPred = yPred[:visualizableCount]\n",
        "showComparision(visualizableImages, visualizableYTrue, visualizableYPred)"
      ],
      "metadata": {
        "id": "omgGytXFsLdM"
      },
      "execution_count": null,
      "outputs": []
    },
    {
      "cell_type": "markdown",
      "source": [
        "**Visualising the Confusion Matrix**"
      ],
      "metadata": {
        "id": "wfbjfJlALvjB"
      }
    },
    {
      "cell_type": "code",
      "source": [
        "cm = confusion_matrix(yTrue, yPred)\n",
        "class_names = test_dataset.classes\n",
        "plt.figure(figsize=(8, 6))\n",
        "sns.heatmap(cm, annot=True, fmt='d', cmap=cmap, cbar=False, xticklabels=class_names, yticklabels=class_names)\n",
        "plt.title('Confusion Matrix')\n",
        "plt.xlabel('Predicted Labels')\n",
        "plt.ylabel('True Labels')\n",
        "plt.show()"
      ],
      "metadata": {
        "id": "XmlWajB1sPMQ"
      },
      "execution_count": null,
      "outputs": []
    },
    {
      "cell_type": "markdown",
      "source": [
        "**Evualuating the Network**"
      ],
      "metadata": {
        "id": "K8fek0y-L0Fc"
      }
    },
    {
      "cell_type": "code",
      "source": [
        "precision = precision_score(yTrue, yPred)\n",
        "recall = recall_score(yTrue, yPred)\n",
        "f1Score = f1_score(yTrue, yPred)"
      ],
      "metadata": {
        "id": "Gcez-hAJsVHa"
      },
      "execution_count": null,
      "outputs": []
    },
    {
      "cell_type": "code",
      "source": [
        "from sklearn.metrics import classification_report\n",
        "class_names = class_names  # Example class names\n",
        "\n",
        "print(classification_report(yTrue, yPred, target_names=class_names))"
      ],
      "metadata": {
        "id": "TClz7OF7seu3"
      },
      "execution_count": null,
      "outputs": []
    },
    {
      "cell_type": "code",
      "source": [
        "html_code = f\"\"\"\n",
        "    <div style=\"display: flex; flex-direction: row; justify-content: center; align-items: center; gap: 30px\">\n",
        "        <span>\n",
        "            <h3 style=\"line-height: 30px; background-color: #cc3d76; padding: 20px 20px; border-radius: 8px\">Precision {precision:.2f}</h3>\n",
        "        </span>\n",
        "\n",
        "        <span>\n",
        "            <h3 style=\"line-height: 30px; background-color: #b3245d; padding: 20px 20px; border-radius: 8px\">Recall {recall:.2f}</h3>\n",
        "        </span>\n",
        "\n",
        "        <span>\n",
        "            <h3 style=\"line-height: 30px; background-color: #d40457; padding: 20px 20px; border-radius: 8px\">F1-Score {f1Score:.2f}</h3>\n",
        "        </span>\n",
        "    </div>\n",
        "\"\"\"\n",
        "HTML(html_code)"
      ],
      "metadata": {
        "id": "N1KXO0-iHEca"
      },
      "execution_count": null,
      "outputs": []
    }
  ]
}